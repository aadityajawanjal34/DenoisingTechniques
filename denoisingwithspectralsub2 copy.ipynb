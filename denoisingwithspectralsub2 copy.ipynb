{
 "cells": [
  {
   "cell_type": "code",
   "execution_count": 1,
   "metadata": {},
   "outputs": [
    {
     "name": "stdout",
     "output_type": "stream",
     "text": [
      "Requirement already satisfied: librosa in c:\\users\\aaditya\\anaconda3\\lib\\site-packages (0.10.2.post1)\n",
      "Requirement already satisfied: audioread>=2.1.9 in c:\\users\\aaditya\\anaconda3\\lib\\site-packages (from librosa) (3.0.1)\n",
      "Requirement already satisfied: numpy!=1.22.0,!=1.22.1,!=1.22.2,>=1.20.3 in c:\\users\\aaditya\\anaconda3\\lib\\site-packages (from librosa) (1.24.4)\n",
      "Requirement already satisfied: scipy>=1.2.0 in c:\\users\\aaditya\\anaconda3\\lib\\site-packages (from librosa) (1.11.1)\n",
      "Requirement already satisfied: scikit-learn>=0.20.0 in c:\\users\\aaditya\\anaconda3\\lib\\site-packages (from librosa) (1.3.0)\n",
      "Requirement already satisfied: joblib>=0.14 in c:\\users\\aaditya\\anaconda3\\lib\\site-packages (from librosa) (1.3.2)\n",
      "Requirement already satisfied: decorator>=4.3.0 in c:\\users\\aaditya\\anaconda3\\lib\\site-packages (from librosa) (5.1.1)\n",
      "Requirement already satisfied: numba>=0.51.0 in c:\\users\\aaditya\\anaconda3\\lib\\site-packages (from librosa) (0.57.1)\n",
      "Requirement already satisfied: soundfile>=0.12.1 in c:\\users\\aaditya\\anaconda3\\lib\\site-packages (from librosa) (0.12.1)\n",
      "Requirement already satisfied: pooch>=1.1 in c:\\users\\aaditya\\anaconda3\\lib\\site-packages (from librosa) (1.8.2)\n",
      "Requirement already satisfied: soxr>=0.3.2 in c:\\users\\aaditya\\anaconda3\\lib\\site-packages (from librosa) (0.5.0.post1)\n",
      "Requirement already satisfied: typing-extensions>=4.1.1 in c:\\users\\aaditya\\anaconda3\\lib\\site-packages (from librosa) (4.9.0)\n",
      "Requirement already satisfied: lazy-loader>=0.1 in c:\\users\\aaditya\\anaconda3\\lib\\site-packages (from librosa) (0.2)\n",
      "Requirement already satisfied: msgpack>=1.0 in c:\\users\\aaditya\\anaconda3\\lib\\site-packages (from librosa) (1.0.3)\n",
      "Requirement already satisfied: llvmlite<0.41,>=0.40.0dev0 in c:\\users\\aaditya\\anaconda3\\lib\\site-packages (from numba>=0.51.0->librosa) (0.40.0)\n",
      "Requirement already satisfied: platformdirs>=2.5.0 in c:\\users\\aaditya\\anaconda3\\lib\\site-packages (from pooch>=1.1->librosa) (3.10.0)\n",
      "Requirement already satisfied: packaging>=20.0 in c:\\users\\aaditya\\anaconda3\\lib\\site-packages (from pooch>=1.1->librosa) (23.2)\n",
      "Requirement already satisfied: requests>=2.19.0 in c:\\users\\aaditya\\anaconda3\\lib\\site-packages (from pooch>=1.1->librosa) (2.31.0)\n",
      "Requirement already satisfied: threadpoolctl>=2.0.0 in c:\\users\\aaditya\\anaconda3\\lib\\site-packages (from scikit-learn>=0.20.0->librosa) (2.2.0)\n",
      "Requirement already satisfied: cffi>=1.0 in c:\\users\\aaditya\\anaconda3\\lib\\site-packages (from soundfile>=0.12.1->librosa) (1.15.1)\n",
      "Requirement already satisfied: pycparser in c:\\users\\aaditya\\anaconda3\\lib\\site-packages (from cffi>=1.0->soundfile>=0.12.1->librosa) (2.21)\n",
      "Requirement already satisfied: charset-normalizer<4,>=2 in c:\\users\\aaditya\\anaconda3\\lib\\site-packages (from requests>=2.19.0->pooch>=1.1->librosa) (3.3.2)\n",
      "Requirement already satisfied: idna<4,>=2.5 in c:\\users\\aaditya\\anaconda3\\lib\\site-packages (from requests>=2.19.0->pooch>=1.1->librosa) (3.6)\n",
      "Requirement already satisfied: urllib3<3,>=1.21.1 in c:\\users\\aaditya\\anaconda3\\lib\\site-packages (from requests>=2.19.0->pooch>=1.1->librosa) (1.26.18)\n",
      "Requirement already satisfied: certifi>=2017.4.17 in c:\\users\\aaditya\\anaconda3\\lib\\site-packages (from requests>=2.19.0->pooch>=1.1->librosa) (2024.2.2)\n",
      "Note: you may need to restart the kernel to use updated packages.\n"
     ]
    }
   ],
   "source": [
    "pip install librosa"
   ]
  },
  {
   "cell_type": "code",
   "execution_count": 2,
   "metadata": {},
   "outputs": [
    {
     "name": "stdout",
     "output_type": "stream",
     "text": [
      "WARNING:tensorflow:From c:\\Users\\Aaditya\\anaconda3\\Lib\\site-packages\\keras\\src\\losses.py:2976: The name tf.losses.sparse_softmax_cross_entropy is deprecated. Please use tf.compat.v1.losses.sparse_softmax_cross_entropy instead.\n",
      "\n"
     ]
    }
   ],
   "source": [
    "import librosa\n",
    "import numpy as np\n",
    "import librosa.display\n",
    "import matplotlib.pyplot as plt\n",
    "import os\n",
    "import pandas as pd\n",
    "import librosa\n",
    "import numpy as np\n",
    "from sklearn.model_selection import train_test_split\n",
    "from tensorflow.keras import layers, models"
   ]
  },
  {
   "cell_type": "code",
   "execution_count": 3,
   "metadata": {},
   "outputs": [],
   "source": [
    "def extract_mel_spectrogram(file_path):\n",
    "    y, sr = librosa.load(file_path, sr=None)  # Preserve original sampling rate\n",
    "    mel_spectrogram = librosa.feature.melspectrogram(y=y, sr=sr, n_mels=128)\n",
    "    mel_spectrogram = librosa.power_to_db(mel_spectrogram, ref=np.max)\n",
    "    return mel_spectrogram, sr  # Return both mel-spectrogram and sample rate"
   ]
  },
  {
   "cell_type": "code",
   "execution_count": 4,
   "metadata": {},
   "outputs": [],
   "source": [
    "from tensorflow.keras import layers, models\n",
    "#rcnn\n",
    "def create_dcnn_model(input_shape):\n",
    "    model = models.Sequential()\n",
    "    \n",
    "    # Convolutional layer 1\n",
    "    model.add(layers.Conv2D(32, (3, 3), activation='relu', input_shape=input_shape))\n",
    "    model.add(layers.MaxPooling2D((2, 2)))\n",
    "    model.add(layers.Dropout(0.2))\n",
    "    \n",
    "    # Convolutional layer 2\n",
    "    model.add(layers.Conv2D(64, (3, 3), activation='relu'))\n",
    "    model.add(layers.MaxPooling2D((2, 2)))\n",
    "    model.add(layers.Dropout(0.2))\n",
    "    \n",
    "    # Convolutional layer 3\n",
    "    model.add(layers.Conv2D(128, (3, 3), activation='relu'))\n",
    "    model.add(layers.MaxPooling2D((2, 2)))\n",
    "    model.add(layers.Dropout(0.2))\n",
    "    \n",
    "    # Flatten before LSTM layers\n",
    "    model.add(layers.TimeDistributed(layers.Flatten()))\n",
    "    \n",
    "    # BiLSTM layer 1\n",
    "    model.add(layers.Bidirectional(layers.LSTM(128, return_sequences=True)))\n",
    "    model.add(layers.Dropout(0.2))\n",
    "    \n",
    "    # BiLSTM layer 2\n",
    "    model.add(layers.Bidirectional(layers.LSTM(64)))\n",
    "    model.add(layers.Dropout(0.2))\n",
    "    \n",
    "    # Fully Connected Layers\n",
    "    model.add(layers.Dense(256, activation='relu'))\n",
    "    model.add(layers.Dropout(0.2))\n",
    "    model.add(layers.Dense(1, activation='sigmoid'))  # Binary classification\n",
    "    \n",
    "    model.compile(optimizer='adam', loss='binary_crossentropy', metrics=['accuracy'])\n",
    "    \n",
    "    return model\n"
   ]
  },
  {
   "cell_type": "code",
   "execution_count": 5,
   "metadata": {},
   "outputs": [],
   "source": [
    "result_df=pd.read_csv('D://ASVspoof2021_DF_eval//filter_auds.csv')\n",
    "audio_folder = 'D://ASVspoof2021_DF_eval//filtered_auds_augmented' "
   ]
  },
  {
   "cell_type": "code",
   "execution_count": 6,
   "metadata": {},
   "outputs": [
    {
     "name": "stderr",
     "output_type": "stream",
     "text": [
      "C:\\Users\\Aaditya\\AppData\\Local\\Temp\\ipykernel_13644\\2657359802.py:30: UserWarning: PySoundFile failed. Trying audioread instead.\n",
      "  y, sr = librosa.load(file_path, sr=None)  # Preserve original sampling rate\n",
      "c:\\Users\\Aaditya\\anaconda3\\Lib\\site-packages\\librosa\\core\\audio.py:184: FutureWarning: librosa.core.audio.__audioread_load\n",
      "\tDeprecated as of librosa version 0.10.0.\n",
      "\tIt will be removed in librosa version 1.0.\n",
      "  y, sr_native = __audioread_load(path, offset, duration, dtype)\n"
     ]
    },
    {
     "name": "stdout",
     "output_type": "stream",
     "text": [
      "Error processing DF_E_2407605: \n",
      "Error processing DF_E_2232706: \n",
      "Error processing DF_E_2455376: \n",
      "Error processing DF_E_2529863: \n",
      "Error processing DF_E_2410944: \n",
      "Error processing DF_E_2527516: \n",
      "Error processing DF_E_2457301: \n",
      "Error processing DF_E_2407873: \n",
      "Error processing DF_E_2574980: \n"
     ]
    }
   ],
   "source": [
    "import os\n",
    "import numpy as np\n",
    "import librosa\n",
    "import librosa.display\n",
    "import scipy.signal\n",
    "import scipy.fftpack\n",
    "\n",
    "# Spectral Subtraction for Denoising\n",
    "def spectral_subtraction(y, sr, noise_frames=5):\n",
    "    \"\"\"Perform spectral subtraction for noise reduction.\"\"\"\n",
    "    # Compute STFT (Short-Time Fourier Transform)\n",
    "    D = librosa.stft(y, n_fft=1024, hop_length=512)\n",
    "    magnitude, phase = np.abs(D), np.angle(D)\n",
    "\n",
    "    # Estimate noise power spectrum using the first few silent frames\n",
    "    noise_spectrum = np.mean(magnitude[:, :noise_frames], axis=1, keepdims=True)\n",
    "\n",
    "    # Subtract noise spectrum (ensure no negative values)\n",
    "    magnitude_denoised = np.maximum(magnitude - noise_spectrum, 0)\n",
    "\n",
    "    # Reconstruct signal using inverse STFT\n",
    "    D_denoised = magnitude_denoised * np.exp(1j * phase)\n",
    "    y_denoised = librosa.istft(D_denoised, hop_length=512)\n",
    "\n",
    "    return y_denoised\n",
    "\n",
    "# Mel Spectrogram Extraction\n",
    "def extract_mel_spectrogram(file_path):\n",
    "    \"\"\"Extract Mel spectrogram after spectral subtraction.\"\"\"\n",
    "    y, sr = librosa.load(file_path, sr=None)  # Preserve original sampling rate\n",
    "    y_denoised = spectral_subtraction(y, sr)  # Apply noise reduction\n",
    "\n",
    "    mel_spectrogram = librosa.feature.melspectrogram(y=y_denoised, sr=sr, n_mels=128)\n",
    "    mel_spectrogram = librosa.power_to_db(mel_spectrogram, ref=np.max)\n",
    "    \n",
    "    return mel_spectrogram, sr  # Return both mel-spectrogram and sample rate\n",
    "\n",
    "# Directory containing noisy audio files\n",
    "audio_folder = 'D://ASVspoof2021_DF_eval//filtered_auds_augmented'\n",
    "\n",
    "# Prepare feature (X) and label (y) arrays\n",
    "X, y = [], []\n",
    "\n",
    "# Iterate over metadata to process audio files\n",
    "for index, row in result_df.iterrows():\n",
    "    file_name = row['File_Name']\n",
    "    label = row['Label']\n",
    "    file_path = os.path.join(audio_folder, file_name + '.flac')  # Assuming .flac files\n",
    "    \n",
    "    if os.path.exists(file_path):\n",
    "        try:\n",
    "            mel_spectrogram, sr = extract_mel_spectrogram(file_path)\n",
    "\n",
    "            # Ensure consistent shape (128, 128)\n",
    "            if mel_spectrogram.shape[1] > 128:\n",
    "                mel_spectrogram = mel_spectrogram[:, :128]\n",
    "            else:\n",
    "                mel_spectrogram = np.pad(mel_spectrogram, ((0, 0), (0, 128 - mel_spectrogram.shape[1])), mode='constant')\n",
    "\n",
    "            X.append(mel_spectrogram)\n",
    "            y.append(label)\n",
    "        except Exception as e:\n",
    "            print(f\"Error processing {file_name}: {e}\")\n",
    "\n",
    "# Convert to numpy arrays\n",
    "X = np.array(X)\n",
    "y = np.array(y)\n",
    "\n",
    "# Reshape X to add a channel dimension (for deep learning models)\n",
    "X = X.reshape(X.shape[0], 128, 128, 1)\n"
   ]
  },
  {
   "cell_type": "code",
   "execution_count": 7,
   "metadata": {},
   "outputs": [
    {
     "data": {
      "text/plain": [
       "(13122,)"
      ]
     },
     "execution_count": 7,
     "metadata": {},
     "output_type": "execute_result"
    }
   ],
   "source": [
    "y.shape"
   ]
  },
  {
   "cell_type": "code",
   "execution_count": 8,
   "metadata": {},
   "outputs": [],
   "source": [
    "# Split the dataset into training and testing sets\n",
    "X_train, X_test, y_train, y_test = train_test_split(X, y, test_size=0.3, random_state=42)"
   ]
  },
  {
   "cell_type": "code",
   "execution_count": 9,
   "metadata": {},
   "outputs": [
    {
     "name": "stdout",
     "output_type": "stream",
     "text": [
      "WARNING:tensorflow:From c:\\Users\\Aaditya\\anaconda3\\Lib\\site-packages\\keras\\src\\backend.py:873: The name tf.get_default_graph is deprecated. Please use tf.compat.v1.get_default_graph instead.\n",
      "\n",
      "WARNING:tensorflow:From c:\\Users\\Aaditya\\anaconda3\\Lib\\site-packages\\keras\\src\\layers\\pooling\\max_pooling2d.py:161: The name tf.nn.max_pool is deprecated. Please use tf.nn.max_pool2d instead.\n",
      "\n",
      "WARNING:tensorflow:From c:\\Users\\Aaditya\\anaconda3\\Lib\\site-packages\\keras\\src\\optimizers\\__init__.py:309: The name tf.train.Optimizer is deprecated. Please use tf.compat.v1.train.Optimizer instead.\n",
      "\n",
      "Epoch 1/10\n",
      "WARNING:tensorflow:From c:\\Users\\Aaditya\\anaconda3\\Lib\\site-packages\\keras\\src\\utils\\tf_utils.py:492: The name tf.ragged.RaggedTensorValue is deprecated. Please use tf.compat.v1.ragged.RaggedTensorValue instead.\n",
      "\n",
      "WARNING:tensorflow:From c:\\Users\\Aaditya\\anaconda3\\Lib\\site-packages\\keras\\src\\engine\\base_layer_utils.py:384: The name tf.executing_eagerly_outside_functions is deprecated. Please use tf.compat.v1.executing_eagerly_outside_functions instead.\n",
      "\n",
      "288/288 [==============================] - 155s 495ms/step - loss: 0.6182 - accuracy: 0.6737 - val_loss: 0.7000 - val_accuracy: 0.6754\n",
      "Epoch 2/10\n",
      "288/288 [==============================] - 129s 448ms/step - loss: 0.4789 - accuracy: 0.8074 - val_loss: 0.4753 - val_accuracy: 0.8057\n",
      "Epoch 3/10\n",
      "288/288 [==============================] - 117s 407ms/step - loss: 0.4438 - accuracy: 0.8314 - val_loss: 0.4816 - val_accuracy: 0.8006\n",
      "Epoch 4/10\n",
      "288/288 [==============================] - 118s 409ms/step - loss: 0.4334 - accuracy: 0.8357 - val_loss: 0.4642 - val_accuracy: 0.8189\n",
      "Epoch 5/10\n",
      "288/288 [==============================] - 121s 419ms/step - loss: 0.4331 - accuracy: 0.8354 - val_loss: 0.4624 - val_accuracy: 0.8164\n",
      "Epoch 6/10\n",
      "288/288 [==============================] - 119s 415ms/step - loss: 0.4236 - accuracy: 0.8409 - val_loss: 0.4647 - val_accuracy: 0.8181\n",
      "Epoch 7/10\n",
      "288/288 [==============================] - 145s 503ms/step - loss: 0.4161 - accuracy: 0.8414 - val_loss: 0.4523 - val_accuracy: 0.8235\n",
      "Epoch 8/10\n",
      "288/288 [==============================] - 145s 505ms/step - loss: 0.4167 - accuracy: 0.8408 - val_loss: 0.4644 - val_accuracy: 0.8146\n",
      "Epoch 9/10\n",
      "288/288 [==============================] - 148s 515ms/step - loss: 0.4122 - accuracy: 0.8425 - val_loss: 0.4434 - val_accuracy: 0.8232\n",
      "Epoch 10/10\n",
      "288/288 [==============================] - 132s 460ms/step - loss: 0.4112 - accuracy: 0.8418 - val_loss: 0.4464 - val_accuracy: 0.8235\n"
     ]
    },
    {
     "data": {
      "text/plain": [
       "<keras.src.callbacks.History at 0x2932ea50810>"
      ]
     },
     "execution_count": 9,
     "metadata": {},
     "output_type": "execute_result"
    }
   ],
   "source": [
    "model = create_dcnn_model((128, 128, 1))\n",
    "model.fit(X_train, y_train, epochs=10, validation_data=(X_test, y_test))"
   ]
  },
  {
   "cell_type": "code",
   "execution_count": 10,
   "metadata": {},
   "outputs": [
    {
     "name": "stdout",
     "output_type": "stream",
     "text": [
      "124/124 [==============================] - 12s 95ms/step - loss: 0.4464 - accuracy: 0.8235\n",
      "Test accuracy: 0.8234696388244629\n"
     ]
    }
   ],
   "source": [
    "# Evaluate the model\n",
    "test_loss, test_acc = model.evaluate(X_test, y_test)\n",
    "print(f'Test accuracy: {test_acc}')"
   ]
  },
  {
   "cell_type": "code",
   "execution_count": 11,
   "metadata": {},
   "outputs": [
    {
     "name": "stderr",
     "output_type": "stream",
     "text": [
      "c:\\Users\\Aaditya\\anaconda3\\Lib\\site-packages\\keras\\src\\engine\\training.py:3103: UserWarning: You are saving your model as an HDF5 file via `model.save()`. This file format is considered legacy. We recommend using instead the native Keras format, e.g. `model.save('my_model.keras')`.\n",
      "  saving_api.save_model(\n"
     ]
    },
    {
     "name": "stdout",
     "output_type": "stream",
     "text": [
      "Model saved successfully!\n"
     ]
    }
   ],
   "source": [
    "model.save('D:\\ASVspoof2021_DF_eval\\m1rcnn.h5')  # Replace with your desired path\n",
    "print(\"Model saved successfully!\")"
   ]
  },
  {
   "cell_type": "code",
   "execution_count": 13,
   "metadata": {},
   "outputs": [
    {
     "name": "stdout",
     "output_type": "stream",
     "text": [
      "124/124 [==============================] - 12s 94ms/step - loss: 0.4464 - accuracy: 0.8235\n",
      "Test accuracy: 0.8234696388244629\n",
      "124/124 [==============================] - 11s 90ms/step\n",
      "Confusion Matrix:\n",
      "[[2468  124]\n",
      " [ 571  774]]\n"
     ]
    },
    {
     "data": {
      "image/png": "[encoded data removed]",
      "text/plain": [
       "<Figure size 600x400 with 2 Axes>"
      ]
     },
     "metadata": {},
     "output_type": "display_data"
    },
    {
     "name": "stdout",
     "output_type": "stream",
     "text": [
      "Classification Report:\n",
      "              precision    recall  f1-score   support\n",
      "\n",
      "       Spoof       0.81      0.95      0.88      2592\n",
      "    Bonafide       0.86      0.58      0.69      1345\n",
      "\n",
      "    accuracy                           0.82      3937\n",
      "   macro avg       0.84      0.76      0.78      3937\n",
      "weighted avg       0.83      0.82      0.81      3937\n",
      "\n",
      "AUC: 0.8271604938271604\n",
      "EER: 0.25462962962962965\n"
     ]
    },
    {
     "data": {
      "image/png": "[encoded data removed]",
      "text/plain": [
       "<Figure size 640x480 with 1 Axes>"
      ]
     },
     "metadata": {},
     "output_type": "display_data"
    }
   ],
   "source": [
    "from sklearn.metrics import confusion_matrix, classification_report, roc_auc_score, roc_curve\n",
    "import seaborn as sns\n",
    "import matplotlib.pyplot as plt\n",
    "import numpy as np\n",
    "\n",
    "# Evaluate the model\n",
    "test_loss, test_acc = model.evaluate(X_test, y_test)\n",
    "print(f'Test accuracy: {test_acc}')\n",
    "\n",
    "# Get predictions on the test set\n",
    "y_pred_probs = model.predict(X_test)  # Get probabilities\n",
    "y_pred = (y_pred_probs > 0.5).astype(\"int32\")  # Convert probabilities to binary labels\n",
    "\n",
    "# Confusion Matrix\n",
    "conf_matrix = confusion_matrix(y_test, y_pred)\n",
    "print(\"Confusion Matrix:\")\n",
    "print(conf_matrix)\n",
    "\n",
    "# Visualize confusion matrix using a heatmap\n",
    "plt.figure(figsize=(6,4))\n",
    "sns.heatmap(conf_matrix, annot=True, fmt='d', cmap='Blues', xticklabels=['Spoof', 'Bonafide'], yticklabels=['Spoof', 'Bonafide'])\n",
    "plt.xlabel('Predicted')\n",
    "plt.ylabel('True')\n",
    "plt.title('Confusion Matrix')\n",
    "plt.show()\n",
    "\n",
    "# Classification Report for Precision, Recall, F1-score\n",
    "print(\"Classification Report:\")\n",
    "print(classification_report(y_test, y_pred, target_names=['Spoof', 'Bonafide']))\n",
    "\n",
    "# Calculate AUC (Area Under Curve)\n",
    "auc = roc_auc_score(y_test, y_pred_probs)\n",
    "print(f'AUC: {auc}')\n",
    "\n",
    "# Calculate EER (Equal Error Rate)\n",
    "fpr, tpr, thresholds = roc_curve(y_test, y_pred_probs)\n",
    "fnr = 1 - tpr\n",
    "eer_threshold = thresholds[np.nanargmin(np.absolute(fnr - fpr))]\n",
    "eer = fpr[np.nanargmin(np.absolute(fnr - fpr))]\n",
    "print(f'EER: {eer}')\n",
    "\n",
    "# Plot ROC Curve\n",
    "plt.plot(fpr, tpr, label=f'AUC = {auc:.2f}')\n",
    "plt.plot([0, 1], [0, 1], 'k--', label='Random Classifier')\n",
    "plt.xlabel('False Positive Rate')\n",
    "plt.ylabel('True Positive Rate')\n",
    "plt.title('Receiver Operating Characteristic (ROC)')\n",
    "plt.legend(loc='lower right')\n",
    "plt.show()\n"
   ]
  }
 ],
 "metadata": {
  "kernelspec": {
   "display_name": "base",
   "language": "python",
   "name": "python3"
  },
  "language_info": {
   "codemirror_mode": {
    "name": "ipython",
    "version": 3
   },
   "file_extension": ".py",
   "mimetype": "text/x-python",
   "name": "python",
   "nbconvert_exporter": "python",
   "pygments_lexer": "ipython3",
   "version": "3.11.5"
  }
 },
 "nbformat": 4,
 "nbformat_minor": 2
}
